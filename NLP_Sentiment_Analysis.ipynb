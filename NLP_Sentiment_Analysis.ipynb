{
  "nbformat": 4,
  "nbformat_minor": 0,
  "metadata": {
    "colab": {
      "name": "NLP-Sentiment Analysis",
      "version": "0.3.2",
      "provenance": [],
      "collapsed_sections": [
        "Jug4oHhRyuQM",
        "CVl6NV0cyyte",
        "u_D_hUKVhBxj",
        "ldMHrrJriR2G",
        "6x0t49AumckT"
      ]
    },
    "kernelspec": {
      "name": "python3",
      "display_name": "Python 3"
    },
    "accelerator": "GPU"
  },
  "cells": [
    {
      "cell_type": "markdown",
      "metadata": {
        "id": "VbhzQsBxb99M",
        "colab_type": "text"
      },
      "source": [
        "# Sentiment analysis"
      ]
    },
    {
      "cell_type": "markdown",
      "metadata": {
        "id": "XQ3r53sSb2v5",
        "colab_type": "text"
      },
      "source": [
        "source: https://www.kaggle.com/ngyptr/python-nltk-sentiment-analysis"
      ]
    },
    {
      "cell_type": "markdown",
      "metadata": {
        "id": "Jug4oHhRyuQM",
        "colab_type": "text"
      },
      "source": [
        "## Import Libraries and Data"
      ]
    },
    {
      "cell_type": "markdown",
      "metadata": {
        "id": "nRwCzQ4UzelO",
        "colab_type": "text"
      },
      "source": [
        "### Import Libraries"
      ]
    },
    {
      "cell_type": "code",
      "metadata": {
        "id": "EGvTCivqtm7J",
        "colab_type": "code",
        "colab": {}
      },
      "source": [
        "import numpy as np\n",
        "import pandas as pd\n",
        "import nltk\n",
        "from nltk.corpus import stopwords\n",
        "import re"
      ],
      "execution_count": 0,
      "outputs": []
    },
    {
      "cell_type": "code",
      "metadata": {
        "id": "kOBIR2em2E54",
        "colab_type": "code",
        "outputId": "379e9681-7f60-4786-9762-e0fd15c60502",
        "colab": {
          "base_uri": "https://localhost:8080/",
          "height": 72
        }
      },
      "source": [
        "from sklearn.feature_extraction.text import TfidfTransformer\n",
        "from sklearn.feature_extraction.text import CountVectorizer\n",
        "from sklearn.pipeline import Pipeline\n",
        "from sklearn.cross_validation import KFold\n",
        "from sklearn.metrics import accuracy_score\n"
      ],
      "execution_count": 0,
      "outputs": [
        {
          "output_type": "stream",
          "text": [
            "/usr/local/lib/python3.6/dist-packages/sklearn/cross_validation.py:41: DeprecationWarning: This module was deprecated in version 0.18 in favor of the model_selection module into which all the refactored classes and functions are moved. Also note that the interface of the new CV iterators are different from that of this module. This module will be removed in 0.20.\n",
            "  \"This module will be removed in 0.20.\", DeprecationWarning)\n"
          ],
          "name": "stderr"
        }
      ]
    },
    {
      "cell_type": "code",
      "metadata": {
        "id": "Yk7frFiN1LHI",
        "colab_type": "code",
        "outputId": "ad1cf6ba-4460-4a32-b63a-d5efbee1e25a",
        "colab": {
          "base_uri": "https://localhost:8080/",
          "height": 615
        }
      },
      "source": [
        "#import dataset SUBTASK A\n",
        "\n",
        "!pip install -U -q PyDrive\n",
        "import os\n",
        "from pydrive.auth import GoogleAuth\n",
        "from pydrive.drive import GoogleDrive\n",
        "from google.colab import auth\n",
        "from oauth2client.client import GoogleCredentials\n",
        "\n",
        "# 1. Authenticate and create the PyDrive client.\n",
        "auth.authenticate_user()\n",
        "gauth = GoogleAuth()\n",
        "gauth.credentials = GoogleCredentials.get_application_default()\n",
        "drive = GoogleDrive(gauth)\n",
        "\n",
        "# choose a local (colab) directory to store the data.\n",
        "local_download_path = os.path.expanduser('~/data')\n",
        "try:\n",
        "  os.makedirs(local_download_path)\n",
        "except: pass\n",
        "\n",
        "# 2. Auto-iterate using the query syntax\n",
        "# https://developers.google.com/drive/v2/web/search-parameters\n",
        "file_list = drive.ListFile(\n",
        "    {'q': \"'1Aktr0IFuIZeUq95gmB-l1df4hNfcXD5-' in parents\"}).GetList()\n",
        "\n",
        "for f in file_list:\n",
        "  # 3. Create & download by id.\n",
        "  print('title: %s, id: %s' % (f['title'], f['id']))\n",
        "  fname = os.path.join(local_download_path, f['title'])\n",
        "  print('downloading to {}'.format(fname))\n",
        "  f_ = drive.CreateFile({'id': f['id']})\n",
        "  f_.GetContentFile(fname)"
      ],
      "execution_count": 0,
      "outputs": [
        {
          "output_type": "stream",
          "text": [
            "title: 2016-test.csv, id: 17kfrME8OQKJpJEHOvPmfiLpbydSx6pYk\n",
            "downloading to /root/data/2016-test.csv\n",
            "title: 2016-train.csv, id: 1mRZo0ID_7-xjCSzhKau8dzTL-xHVEkqj\n",
            "downloading to /root/data/2016-train.csv\n",
            "title: twitter-2016test-A.txt, id: 1Cb_hfSdjd8AQuONUhXGgogAfc5xEYZsN\n",
            "downloading to /root/data/twitter-2016test-A.txt\n",
            "title: twitter-2016train-A.txt, id: 1FQMs5-29fL53IBNgrzQeTtCTMpTtQl_G\n",
            "downloading to /root/data/twitter-2016train-A.txt\n",
            "title: twitter-2015test-A.txt, id: 1PbofkglgtOFB3cjle4Y0GweBKU46Y1jr\n",
            "downloading to /root/data/twitter-2015test-A.txt\n",
            "title: twitter-2014test-A.txt, id: 1RvjYO-D7e5akDuFzRCX0lvr43QUOjwz8\n",
            "downloading to /root/data/twitter-2014test-A.txt\n",
            "title: twitter-2016devtest-A.txt, id: 1NYvycz9Z5r_iUXWtS4G1krR71glFmhbx\n",
            "downloading to /root/data/twitter-2016devtest-A.txt\n",
            "title: twitter-2013train-A.txt, id: 1HYlsk9Fg33Mf6C7LXuQ-PqASvgMZ6oFC\n",
            "downloading to /root/data/twitter-2013train-A.txt\n",
            "title: twitter-2014sarcasm-A.txt, id: 10W7EBp7vj01qeRXH6RYhigawt9AaL4ly\n",
            "downloading to /root/data/twitter-2014sarcasm-A.txt\n",
            "title: twitter-2013test-A.txt, id: 1MUf8IWwsT0gjJVuBFjr9GFZoALZiTeHV\n",
            "downloading to /root/data/twitter-2013test-A.txt\n",
            "title: twitter-2016dev-A.txt, id: 18DbV_3ino2ggs3D-wpAl43_Ejq0A05vd\n",
            "downloading to /root/data/twitter-2016dev-A.txt\n",
            "title: sms-2013test-A.tsv, id: 1ie_QwrbEvIpbPMA1mxv4hPgRES31HOyz\n",
            "downloading to /root/data/sms-2013test-A.tsv\n",
            "title: twitter-2013dev-A.txt, id: 1retagZdQND1f8KMx91BeSmJ63r_KrgyS\n",
            "downloading to /root/data/twitter-2013dev-A.txt\n",
            "title: livejournal-2014test-A.tsv, id: 17ijfY9_2hSXBmflkUxf-ePAMHGywAsrb\n",
            "downloading to /root/data/livejournal-2014test-A.tsv\n",
            "title: README.txt, id: 184yNT0lhNjGiV49laztsLM9anQvhWEPH\n",
            "downloading to /root/data/README.txt\n",
            "title: twitter-2015train-A.txt, id: 11rryLbOFbEruQxkywkhsdCgIcmqRTypY\n",
            "downloading to /root/data/twitter-2015train-A.txt\n",
            "title: .DS_Store, id: 1JyPK9AISYjLL8_yweHp-6gkeqV0qCYuz\n",
            "downloading to /root/data/.DS_Store\n"
          ],
          "name": "stdout"
        }
      ]
    },
    {
      "cell_type": "code",
      "metadata": {
        "id": "15yvs4RU5_ce",
        "colab_type": "code",
        "outputId": "d82c4570-3391-4c2d-e151-390590f7b31d",
        "colab": {
          "base_uri": "https://localhost:8080/",
          "height": 72
        }
      },
      "source": [
        "nltk.download('stopwords')\n",
        "stopword = stopwords.words(\"english\")"
      ],
      "execution_count": 0,
      "outputs": [
        {
          "output_type": "stream",
          "text": [
            "[nltk_data] Downloading package stopwords to /root/nltk_data...\n",
            "[nltk_data]   Package stopwords is already up-to-date!\n"
          ],
          "name": "stdout"
        }
      ]
    },
    {
      "cell_type": "markdown",
      "metadata": {
        "id": "u_D_hUKVhBxj",
        "colab_type": "text"
      },
      "source": [
        "### Reading the Data"
      ]
    },
    {
      "cell_type": "markdown",
      "metadata": {
        "id": "T7L-puAGqlep",
        "colab_type": "text"
      },
      "source": [
        "Langkah pertama adalah meng-import data training dan testing task A tahun 2016, dan menggabungkan kedua data tersebut untuk kemudian di-split sebelum proses training"
      ]
    },
    {
      "cell_type": "code",
      "metadata": {
        "id": "uTvxwWxTx6UC",
        "colab_type": "code",
        "colab": {}
      },
      "source": [
        "# import data\n",
        "data1 = pd.read_csv('/root/data/2016-train.csv', header=None, \\\n",
        "                   names=['ID', 'sentiment', 'text'])\n",
        "data2 = pd.read_csv('/root/data/2016-test.csv', header=None, \\\n",
        "                        names=['ID', 'sentiment', 'text', 'timestamp'])\n",
        "\n",
        "data = data1.append(data2, ignore_index=True)"
      ],
      "execution_count": 0,
      "outputs": []
    },
    {
      "cell_type": "code",
      "metadata": {
        "id": "aGW2HcCAiJmH",
        "colab_type": "code",
        "outputId": "1b001e3d-6d24-4e9d-eab7-5d01e7b7450e",
        "colab": {
          "base_uri": "https://localhost:8080/",
          "height": 175
        }
      },
      "source": [
        "data.info()"
      ],
      "execution_count": 0,
      "outputs": [
        {
          "output_type": "stream",
          "text": [
            "<class 'pandas.core.frame.DataFrame'>\n",
            "RangeIndex: 26500 entries, 0 to 26499\n",
            "Data columns (total 4 columns):\n",
            "ID           26500 non-null object\n",
            "sentiment    26500 non-null object\n",
            "text         26500 non-null object\n",
            "timestamp    10 non-null object\n",
            "dtypes: object(4)\n",
            "memory usage: 828.2+ KB\n"
          ],
          "name": "stdout"
        }
      ]
    },
    {
      "cell_type": "code",
      "metadata": {
        "id": "QzA3iK1NuMr1",
        "colab_type": "code",
        "outputId": "f651e8c4-9cb5-4509-95e4-ba5507ca430c",
        "colab": {
          "base_uri": "https://localhost:8080/",
          "height": 105
        }
      },
      "source": [
        "data['sentiment'].value_counts()"
      ],
      "execution_count": 0,
      "outputs": [
        {
          "output_type": "execute_result",
          "data": {
            "text/plain": [
              "neutral     12343\n",
              "positive    10076\n",
              "negative     4080\n",
              "[;              1\n",
              "Name: sentiment, dtype: int64"
            ]
          },
          "metadata": {
            "tags": []
          },
          "execution_count": 7
        }
      ]
    },
    {
      "cell_type": "code",
      "metadata": {
        "id": "lKexHArMlVgu",
        "colab_type": "code",
        "outputId": "158b9840-4719-4106-dc3e-ec2c1c6de0e2",
        "colab": {
          "base_uri": "https://localhost:8080/",
          "height": 195
        }
      },
      "source": [
        "data.head()"
      ],
      "execution_count": 0,
      "outputs": [
        {
          "output_type": "execute_result",
          "data": {
            "text/html": [
              "<div>\n",
              "<style scoped>\n",
              "    .dataframe tbody tr th:only-of-type {\n",
              "        vertical-align: middle;\n",
              "    }\n",
              "\n",
              "    .dataframe tbody tr th {\n",
              "        vertical-align: top;\n",
              "    }\n",
              "\n",
              "    .dataframe thead th {\n",
              "        text-align: right;\n",
              "    }\n",
              "</style>\n",
              "<table border=\"1\" class=\"dataframe\">\n",
              "  <thead>\n",
              "    <tr style=\"text-align: right;\">\n",
              "      <th></th>\n",
              "      <th>ID</th>\n",
              "      <th>sentiment</th>\n",
              "      <th>text</th>\n",
              "      <th>timestamp</th>\n",
              "    </tr>\n",
              "  </thead>\n",
              "  <tbody>\n",
              "    <tr>\n",
              "      <th>0</th>\n",
              "      <td>628949369883000000</td>\n",
              "      <td>negative</td>\n",
              "      <td>dear @Microsoft the newOoffice for Mac is grea...</td>\n",
              "      <td>NaN</td>\n",
              "    </tr>\n",
              "    <tr>\n",
              "      <th>1</th>\n",
              "      <td>628976607420645000</td>\n",
              "      <td>negative</td>\n",
              "      <td>@Microsoft how about you make a system that do...</td>\n",
              "      <td>NaN</td>\n",
              "    </tr>\n",
              "    <tr>\n",
              "      <th>2</th>\n",
              "      <td>629023169169518000</td>\n",
              "      <td>negative</td>\n",
              "      <td>I may be ignorant on this issue but... should ...</td>\n",
              "      <td>NaN</td>\n",
              "    </tr>\n",
              "    <tr>\n",
              "      <th>3</th>\n",
              "      <td>629179223232479000</td>\n",
              "      <td>negative</td>\n",
              "      <td>Thanks to @microsoft, I just may be switching ...</td>\n",
              "      <td>NaN</td>\n",
              "    </tr>\n",
              "    <tr>\n",
              "      <th>4</th>\n",
              "      <td>629186282179153000</td>\n",
              "      <td>neutral</td>\n",
              "      <td>If I make a game as a #windows10 Universal App...</td>\n",
              "      <td>NaN</td>\n",
              "    </tr>\n",
              "  </tbody>\n",
              "</table>\n",
              "</div>"
            ],
            "text/plain": [
              "                   ID sentiment  \\\n",
              "0  628949369883000000  negative   \n",
              "1  628976607420645000  negative   \n",
              "2  629023169169518000  negative   \n",
              "3  629179223232479000  negative   \n",
              "4  629186282179153000   neutral   \n",
              "\n",
              "                                                text timestamp  \n",
              "0  dear @Microsoft the newOoffice for Mac is grea...       NaN  \n",
              "1  @Microsoft how about you make a system that do...       NaN  \n",
              "2  I may be ignorant on this issue but... should ...       NaN  \n",
              "3  Thanks to @microsoft, I just may be switching ...       NaN  \n",
              "4  If I make a game as a #windows10 Universal App...       NaN  "
            ]
          },
          "metadata": {
            "tags": []
          },
          "execution_count": 8
        }
      ]
    },
    {
      "cell_type": "code",
      "metadata": {
        "id": "-Pov_YdT2DbC",
        "colab_type": "code",
        "outputId": "e7971f60-011c-49f9-aff2-256406c776fd",
        "colab": {
          "base_uri": "https://localhost:8080/",
          "height": 416
        }
      },
      "source": [
        "import matplotlib.pyplot as plt\n",
        "\n",
        "fig = plt.figure(figsize=(8,6))\n",
        "data.groupby('sentiment').text.count().plot.bar()\n",
        "plt.show()"
      ],
      "execution_count": 0,
      "outputs": [
        {
          "output_type": "display_data",
          "data": {
            "image/png": "[encoded data removed]",
            "text/plain": [
              "<matplotlib.figure.Figure at 0x7f5f128d3c18>"
            ]
          },
          "metadata": {
            "tags": []
          }
        }
      ]
    },
    {
      "cell_type": "markdown",
      "metadata": {
        "id": "B21iYHZWq2Ma",
        "colab_type": "text"
      },
      "source": [
        "Data ini berisi berisi 26500 tweet beserta sentiment-nya dalam bentuk neutral, positive, negative, dan satu buah data dengan kategori '[;'. Data ini kemudian akan di-drop karena memiliki *sentiment* yang dianggap tidak diketahui.\n",
        "\n",
        "Dataset ini memiliki 3 buah atribut, berupa ID, sentiment, text, dan timestamp. Untuk kepentingan *sentiment analysis*, maka atribut yang akan digunakan adalah **text** dan **sentiment**."
      ]
    },
    {
      "cell_type": "markdown",
      "metadata": {
        "id": "NI670Unoy3VE",
        "colab_type": "text"
      },
      "source": [
        "## Data preprocessing"
      ]
    },
    {
      "cell_type": "code",
      "metadata": {
        "id": "01H7wLZfo1Qq",
        "colab_type": "code",
        "outputId": "eda62b2d-e617-403f-93a9-51883a307d1d",
        "colab": {
          "base_uri": "https://localhost:8080/",
          "height": 107
        }
      },
      "source": [
        "# drop rows with unrelated sentiment\n",
        "data = data[data['sentiment'].isin(['neutral', 'positive', 'negative'])]\n",
        "data['sentiment'].value_counts()"
      ],
      "execution_count": 0,
      "outputs": [
        {
          "output_type": "execute_result",
          "data": {
            "text/plain": [
              "neutral     12343\n",
              "positive    10076\n",
              "negative     4080\n",
              "Name: sentiment, dtype: int64"
            ]
          },
          "metadata": {
            "tags": []
          },
          "execution_count": 10
        }
      ]
    },
    {
      "cell_type": "code",
      "metadata": {
        "id": "UmKRD9igkKUL",
        "colab_type": "code",
        "colab": {}
      },
      "source": [
        "# Keeping only neccessary columns\n",
        "data = data[['text', 'sentiment']]\n",
        "\n",
        "#change sentiments\n",
        "data['sentiment'] = data['sentiment'].map({\"negative\": 0, \"neutral\":1, \"positive\": 2})"
      ],
      "execution_count": 0,
      "outputs": []
    },
    {
      "cell_type": "code",
      "metadata": {
        "id": "_IdiFNWNwwyj",
        "colab_type": "code",
        "colab": {}
      },
      "source": [
        "def clean_text(data):\n",
        "  clean = []\n",
        "\n",
        "  for index, row in data.iterrows():\n",
        "      words = re.sub(\"[^a-zA-Z]\", \" \", row.text)\n",
        "      words_lowered = [e.lower() for e in words.split() if len(e) >= 3]\n",
        "      words_stripped = [word for word in words_lowered\n",
        "          if 'http' not in word\n",
        "          and not word.startswith('@')\n",
        "          and not word.startswith('#')\n",
        "          and not word.startswith('&')\n",
        "          and not word.isdigit()\n",
        "          and word != 'RT']\n",
        "      words_filtered = [word for word in words_stripped if not word in stopword]\n",
        "      clean.append([\" \".join(words_filtered).strip(), row.sentiment])\n",
        "  return clean"
      ],
      "execution_count": 0,
      "outputs": []
    },
    {
      "cell_type": "code",
      "metadata": {
        "id": "1_d01_mGkzXI",
        "colab_type": "code",
        "outputId": "3ea6324d-cce3-46f0-b80e-a57913313023",
        "colab": {
          "base_uri": "https://localhost:8080/",
          "height": 850
        }
      },
      "source": [
        "data.head(10)"
      ],
      "execution_count": 0,
      "outputs": [
        {
          "output_type": "execute_result",
          "data": {
            "text/html": [
              "<div>\n",
              "<style scoped>\n",
              "    .dataframe tbody tr th:only-of-type {\n",
              "        vertical-align: middle;\n",
              "    }\n",
              "\n",
              "    .dataframe tbody tr th {\n",
              "        vertical-align: top;\n",
              "    }\n",
              "\n",
              "    .dataframe thead th {\n",
              "        text-align: right;\n",
              "    }\n",
              "</style>\n",
              "<table border=\"1\" class=\"dataframe\">\n",
              "  <thead>\n",
              "    <tr style=\"text-align: right;\">\n",
              "      <th></th>\n",
              "      <th>text</th>\n",
              "      <th>sentiment</th>\n",
              "    </tr>\n",
              "  </thead>\n",
              "  <tbody>\n",
              "    <tr>\n",
              "      <th>0</th>\n",
              "      <td>dear @Microsoft the newOoffice for Mac is grea...</td>\n",
              "      <td>0</td>\n",
              "    </tr>\n",
              "    <tr>\n",
              "      <th>1</th>\n",
              "      <td>@Microsoft how about you make a system that do...</td>\n",
              "      <td>0</td>\n",
              "    </tr>\n",
              "    <tr>\n",
              "      <th>2</th>\n",
              "      <td>I may be ignorant on this issue but... should ...</td>\n",
              "      <td>0</td>\n",
              "    </tr>\n",
              "    <tr>\n",
              "      <th>3</th>\n",
              "      <td>Thanks to @microsoft, I just may be switching ...</td>\n",
              "      <td>0</td>\n",
              "    </tr>\n",
              "    <tr>\n",
              "      <th>4</th>\n",
              "      <td>If I make a game as a #windows10 Universal App...</td>\n",
              "      <td>1</td>\n",
              "    </tr>\n",
              "    <tr>\n",
              "      <th>5</th>\n",
              "      <td>Microsoft, I may not prefer your gaming branch...</td>\n",
              "      <td>2</td>\n",
              "    </tr>\n",
              "    <tr>\n",
              "      <th>6</th>\n",
              "      <td>@MikeWolf1980 @Microsoft I will be downgrading...</td>\n",
              "      <td>0</td>\n",
              "    </tr>\n",
              "    <tr>\n",
              "      <th>7</th>\n",
              "      <td>@Microsoft 2nd computer with same error!!! #Wi...</td>\n",
              "      <td>0</td>\n",
              "    </tr>\n",
              "    <tr>\n",
              "      <th>8</th>\n",
              "      <td>Just ordered my 1st ever tablet; @Microsoft Su...</td>\n",
              "      <td>2</td>\n",
              "    </tr>\n",
              "    <tr>\n",
              "      <th>9</th>\n",
              "      <td>After attempting a reinstall, it still bricks,...</td>\n",
              "      <td>0</td>\n",
              "    </tr>\n",
              "  </tbody>\n",
              "</table>\n",
              "</div>"
            ],
            "text/plain": [
              "                                                text  sentiment\n",
              "0  dear @Microsoft the newOoffice for Mac is grea...          0\n",
              "1  @Microsoft how about you make a system that do...          0\n",
              "2  I may be ignorant on this issue but... should ...          0\n",
              "3  Thanks to @microsoft, I just may be switching ...          0\n",
              "4  If I make a game as a #windows10 Universal App...          1\n",
              "5  Microsoft, I may not prefer your gaming branch...          2\n",
              "6  @MikeWolf1980 @Microsoft I will be downgrading...          0\n",
              "7  @Microsoft 2nd computer with same error!!! #Wi...          0\n",
              "8  Just ordered my 1st ever tablet; @Microsoft Su...          2\n",
              "9  After attempting a reinstall, it still bricks,...          0"
            ]
          },
          "metadata": {
            "tags": []
          },
          "execution_count": 13
        }
      ]
    },
    {
      "cell_type": "markdown",
      "metadata": {
        "id": "5-FqAU-HxrYs",
        "colab_type": "text"
      },
      "source": [
        "Membersihkan text dari kata-kata yang tidak diperlukan, seperti\n",
        "\n",
        "1.   Mention (@)\n",
        "2.   Hashtag (#)\n",
        "1.   Link\n",
        "1.   Angka atau simbol-simbol yang tidak diperlukan\n",
        "2.   'RT'\n"
      ]
    },
    {
      "cell_type": "code",
      "metadata": {
        "id": "eb4rQlKh-DxN",
        "colab_type": "code",
        "outputId": "1b6e8933-1f4b-4714-9045-c7e47568c819",
        "colab": {
          "base_uri": "https://localhost:8080/",
          "height": 635
        }
      },
      "source": [
        "cleaned = pd.DataFrame(clean_text(data), columns=['text', 'sentiment'])\n",
        "cleaned.head()"
      ],
      "execution_count": 0,
      "outputs": [
        {
          "output_type": "execute_result",
          "data": {
            "text/html": [
              "<div>\n",
              "<style scoped>\n",
              "    .dataframe tbody tr th:only-of-type {\n",
              "        vertical-align: middle;\n",
              "    }\n",
              "\n",
              "    .dataframe tbody tr th {\n",
              "        vertical-align: top;\n",
              "    }\n",
              "\n",
              "    .dataframe thead th {\n",
              "        text-align: right;\n",
              "    }\n",
              "</style>\n",
              "<table border=\"1\" class=\"dataframe\">\n",
              "  <thead>\n",
              "    <tr style=\"text-align: right;\">\n",
              "      <th></th>\n",
              "      <th>text</th>\n",
              "      <th>sentiment</th>\n",
              "    </tr>\n",
              "  </thead>\n",
              "  <tbody>\n",
              "    <tr>\n",
              "      <th>0</th>\n",
              "      <td>dear microsoft newooffice mac great lync updat...</td>\n",
              "      <td>0</td>\n",
              "    </tr>\n",
              "    <tr>\n",
              "      <th>1</th>\n",
              "      <td>microsoft make system eat friggin discs time h...</td>\n",
              "      <td>0</td>\n",
              "    </tr>\n",
              "    <tr>\n",
              "      <th>2</th>\n",
              "      <td>may ignorant issue celebrate microsoft parenta...</td>\n",
              "      <td>0</td>\n",
              "    </tr>\n",
              "    <tr>\n",
              "      <th>3</th>\n",
              "      <td>thanks microsoft may switching apple</td>\n",
              "      <td>0</td>\n",
              "    </tr>\n",
              "    <tr>\n",
              "      <th>4</th>\n",
              "      <td>make game windows universal app xboxone owners...</td>\n",
              "      <td>1</td>\n",
              "    </tr>\n",
              "  </tbody>\n",
              "</table>\n",
              "</div>"
            ],
            "text/plain": [
              "                                                text  sentiment\n",
              "0  dear microsoft newooffice mac great lync updat...          0\n",
              "1  microsoft make system eat friggin discs time h...          0\n",
              "2  may ignorant issue celebrate microsoft parenta...          0\n",
              "3               thanks microsoft may switching apple          0\n",
              "4  make game windows universal app xboxone owners...          1"
            ]
          },
          "metadata": {
            "tags": []
          },
          "execution_count": 14
        }
      ]
    },
    {
      "cell_type": "markdown",
      "metadata": {
        "id": "CVl6NV0cyyte",
        "colab_type": "text"
      },
      "source": [
        "## Data Exploration"
      ]
    },
    {
      "cell_type": "code",
      "metadata": {
        "id": "5OlwUwHCp1Gq",
        "colab_type": "code",
        "colab": {}
      },
      "source": [
        "positive = cleaned[cleaned['sentiment'].isin(['2'])]\n",
        "positive = positive['text']\n",
        "negative = cleaned[cleaned['sentiment'].isin(['0'])]\n",
        "negative = negative['text']\n",
        "neutral = cleaned[cleaned['sentiment'].isin(['1'])]\n",
        "neutral = neutral['text']\n"
      ],
      "execution_count": 0,
      "outputs": []
    },
    {
      "cell_type": "code",
      "metadata": {
        "id": "1uNC1bA7w_ni",
        "colab_type": "code",
        "outputId": "1ad1b97d-951d-42f5-b423-bad1956bd665",
        "colab": {
          "base_uri": "https://localhost:8080/",
          "height": 266
        }
      },
      "source": [
        "vectorizer = CountVectorizer()\n",
        "vector = vectorizer.fit_transform(data['text'])\n",
        "print(\"Number of features:  %d\" % len(vectorizer.vocabulary_))\n",
        "print(\"\\n\")\n",
        "\n",
        "sum_words = vector.sum(axis=0) \n",
        "words_freq = [(word, sum_words[0, idx]) for word, idx in vectorizer.vocabulary_.items()]\n",
        "words_freq =sorted(words_freq, key = lambda x: x[1], reverse=True)\n",
        "most_freq = words_freq[:10]\n",
        "for word, freq in most_freq:\n",
        "  print(word, freq)"
      ],
      "execution_count": 0,
      "outputs": [
        {
          "output_type": "stream",
          "text": [
            "Number of features:  43949\n",
            "\n",
            "\n",
            "the 21740\n",
            "to 11910\n",
            "co 8607\n",
            "in 7790\n",
            "and 7637\n",
            "on 7250\n",
            "of 6531\n",
            "is 6016\n",
            "for 5656\n",
            "it 5463\n"
          ],
          "name": "stdout"
        }
      ]
    },
    {
      "cell_type": "markdown",
      "metadata": {
        "id": "Lb5qgZcBxctW",
        "colab_type": "text"
      },
      "source": [
        "#### POSITIVE"
      ]
    },
    {
      "cell_type": "code",
      "metadata": {
        "id": "jKpvUX_ExnTe",
        "colab_type": "code",
        "outputId": "9cae6e69-6109-4d47-ddcd-b09f570f6f0a",
        "colab": {
          "base_uri": "https://localhost:8080/",
          "height": 248
        }
      },
      "source": [
        "pos_vector = vectorizer.fit_transform(positive)\n",
        "print(\"Number of features with POSITIVE sentiment:  %d\" % len(vectorizer.vocabulary_))\n",
        "print(\"------------------\")\n",
        "\n",
        "sum_words = pos_vector.sum(axis=0) \n",
        "words_freq = [(word, sum_words[0, idx]) for word, idx in vectorizer.vocabulary_.items()]\n",
        "words_freq =sorted(words_freq, key = lambda x: x[1], reverse=True)\n",
        "most_freq = words_freq[:10]\n",
        "for word, freq in most_freq:\n",
        "  print(word, freq)"
      ],
      "execution_count": 0,
      "outputs": [
        {
          "output_type": "stream",
          "text": [
            "Number of features with POSITIVE sentiment:  20350\n",
            "------------------\n",
            "tomorrow 1942\n",
            "may 1443\n",
            "day 1298\n",
            "see 939\n",
            "friday 777\n",
            "night 754\n",
            "going 703\n",
            "amp 675\n",
            "time 605\n",
            "sunday 589\n"
          ],
          "name": "stdout"
        }
      ]
    },
    {
      "cell_type": "markdown",
      "metadata": {
        "id": "OfLXizn3yXj2",
        "colab_type": "text"
      },
      "source": [
        "#### Neutral"
      ]
    },
    {
      "cell_type": "code",
      "metadata": {
        "id": "MVmgEocFyJqm",
        "colab_type": "code",
        "outputId": "b3fd89e5-920b-4d7f-9767-c8dbb6c17b30",
        "colab": {
          "base_uri": "https://localhost:8080/",
          "height": 248
        }
      },
      "source": [
        "neu_vector = vectorizer.fit_transform(neutral)\n",
        "print(\"Number of features with POSITIVE sentiment:  %d\" % len(vectorizer.vocabulary_))\n",
        "print(\"------------------\")\n",
        "\n",
        "sum_words = neu_vector.sum(axis=0) \n",
        "words_freq = [(word, sum_words[0, idx]) for word, idx in vectorizer.vocabulary_.items()]\n",
        "words_freq =sorted(words_freq, key = lambda x: x[1], reverse=True)\n",
        "most_freq = words_freq[:10]\n",
        "for word, freq in most_freq:\n",
        "  print(word, freq)"
      ],
      "execution_count": 0,
      "outputs": [
        {
          "output_type": "stream",
          "text": [
            "Number of features with POSITIVE sentiment:  26539\n",
            "------------------\n",
            "may 2164\n",
            "tomorrow 1520\n",
            "amp 739\n",
            "sunday 719\n",
            "friday 691\n",
            "day 671\n",
            "going 666\n",
            "like 664\n",
            "night 650\n",
            "time 599\n"
          ],
          "name": "stdout"
        }
      ]
    },
    {
      "cell_type": "markdown",
      "metadata": {
        "id": "Q_TWLOF2yaKS",
        "colab_type": "text"
      },
      "source": [
        "#### Negative"
      ]
    },
    {
      "cell_type": "code",
      "metadata": {
        "id": "E9hd8nvcyKKe",
        "colab_type": "code",
        "outputId": "b4757de4-73a8-4824-901c-181526e418a6",
        "colab": {
          "base_uri": "https://localhost:8080/",
          "height": 248
        }
      },
      "source": [
        "neg_vector = vectorizer.fit_transform(negative)\n",
        "print(\"Number of features with POSITIVE sentiment:  %d\" % len(vectorizer.vocabulary_))\n",
        "print(\"------------------\")\n",
        "\n",
        "sum_words = neg_vector.sum(axis=0) \n",
        "words_freq = [(word, sum_words[0, idx]) for word, idx in vectorizer.vocabulary_.items()]\n",
        "words_freq =sorted(words_freq, key = lambda x: x[1], reverse=True)\n",
        "most_freq = words_freq[:10]\n",
        "for word, freq in most_freq:\n",
        "  print(word, freq)"
      ],
      "execution_count": 0,
      "outputs": [
        {
          "output_type": "stream",
          "text": [
            "Number of features with POSITIVE sentiment:  11639\n",
            "------------------\n",
            "may 1090\n",
            "tomorrow 385\n",
            "like 355\n",
            "amp 253\n",
            "day 246\n",
            "going 199\n",
            "time 194\n",
            "friday 191\n",
            "get 189\n",
            "one 188\n"
          ],
          "name": "stdout"
        }
      ]
    },
    {
      "cell_type": "markdown",
      "metadata": {
        "id": "6x0t49AumckT",
        "colab_type": "text"
      },
      "source": [
        "## Split Data"
      ]
    },
    {
      "cell_type": "markdown",
      "metadata": {
        "id": "n57XBFqFxU5Z",
        "colab_type": "text"
      },
      "source": [
        "Membagi data menjadi train dan test"
      ]
    },
    {
      "cell_type": "code",
      "metadata": {
        "id": "AVDYCxnUxXU-",
        "colab_type": "code",
        "colab": {}
      },
      "source": [
        "from sklearn.model_selection import train_test_split\n",
        "text = cleaned['text']\n",
        "label = cleaned['sentiment']\n",
        "train_text, test_text, train_label, test_label = train_test_split(text, label, \\\n",
        "                                                                  test_size=0.25, \\\n",
        "                                                                  random_state=777)"
      ],
      "execution_count": 0,
      "outputs": []
    },
    {
      "cell_type": "code",
      "metadata": {
        "id": "ePyJfBKCz5lr",
        "colab_type": "code",
        "outputId": "5040da65-6bfc-435b-b539-94722298a2f3",
        "colab": {
          "base_uri": "https://localhost:8080/",
          "height": 87
        }
      },
      "source": [
        "test_label.value_counts()"
      ],
      "execution_count": 0,
      "outputs": [
        {
          "output_type": "execute_result",
          "data": {
            "text/plain": [
              "1    3044\n",
              "2    2565\n",
              "0    1016\n",
              "Name: sentiment, dtype: int64"
            ]
          },
          "metadata": {
            "tags": []
          },
          "execution_count": 55
        }
      ]
    },
    {
      "cell_type": "code",
      "metadata": {
        "id": "CYxm_pZc0Pyf",
        "colab_type": "code",
        "outputId": "57e8a2ac-3dbf-4a83-a348-e7f28fbf2334",
        "colab": {
          "base_uri": "https://localhost:8080/",
          "height": 87
        }
      },
      "source": [
        "train_label.value_counts()"
      ],
      "execution_count": 0,
      "outputs": [
        {
          "output_type": "execute_result",
          "data": {
            "text/plain": [
              "1    9299\n",
              "2    7511\n",
              "0    3064\n",
              "Name: sentiment, dtype: int64"
            ]
          },
          "metadata": {
            "tags": []
          },
          "execution_count": 56
        }
      ]
    },
    {
      "cell_type": "code",
      "metadata": {
        "id": "BxBCLggZhOad",
        "colab_type": "code",
        "colab": {}
      },
      "source": [
        "test_label = test_label.reset_index(drop=True)"
      ],
      "execution_count": 0,
      "outputs": []
    },
    {
      "cell_type": "markdown",
      "metadata": {
        "id": "Wte3sXM2ymjS",
        "colab_type": "text"
      },
      "source": [
        "## Feature Selection"
      ]
    },
    {
      "cell_type": "markdown",
      "metadata": {
        "id": "7YqO3Psr8eLL",
        "colab_type": "text"
      },
      "source": [
        "### naive bayes"
      ]
    },
    {
      "cell_type": "code",
      "metadata": {
        "id": "e0UXQxHubLrn",
        "colab_type": "code",
        "outputId": "9a30c18e-9f96-49c5-9cf3-da20274ce705",
        "colab": {
          "base_uri": "https://localhost:8080/",
          "height": 34
        }
      },
      "source": [
        "from sklearn.naive_bayes import MultinomialNB\n",
        "\n",
        "vect = CountVectorizer(max_features=30000)\n",
        "train_vector = vect.fit_transform(train_text)\n",
        "test_vector = vect.transform(test_text)\n",
        "\n",
        "clf = MultinomialNB()\n",
        "\n",
        "clf.fit(train_vector, train_label)\n",
        "prediction = clf.predict(test_vector)\n",
        "accuracy = accuracy_score(test_label, prediction)\n",
        "print ('Accuracy:', accuracy)"
      ],
      "execution_count": 0,
      "outputs": [
        {
          "output_type": "stream",
          "text": [
            "Accuracy: 0.6161509433962264\n"
          ],
          "name": "stdout"
        }
      ]
    },
    {
      "cell_type": "code",
      "metadata": {
        "id": "usM8oeTzd0J8",
        "colab_type": "code",
        "outputId": "ab6c7a44-2658-4c39-ef36-cb7b6bd4acd2",
        "colab": {
          "base_uri": "https://localhost:8080/",
          "height": 105
        }
      },
      "source": [
        "neg = 0\n",
        "neu = 0\n",
        "pos = 0\n",
        "row = 0\n",
        "\n",
        "for pred in prediction:\n",
        "  if pred == test_label[row]:\n",
        "    if pred == 0:\n",
        "      neg = neg + 1\n",
        "    elif pred == 1:\n",
        "      neu = neu + 1\n",
        "    elif pred == 2:\n",
        "      pos = pos + 1\n",
        "  row = row + 1\n",
        "    \n",
        "print(\"True prediction percentage:\")\n",
        "print(\"---------------------------\")\n",
        "print(\"Positive: \", (pos/test_label[test_label == 2].count()))\n",
        "print(\"Neutral: \", (neu/test_label[test_label == 1].count()))\n",
        "print(\"Negative: \", (neg/test_label[test_label == 0].count()))"
      ],
      "execution_count": 0,
      "outputs": [
        {
          "output_type": "stream",
          "text": [
            "True prediction percentage:\n",
            "---------------------------\n",
            "Positive:  0.6955165692007798\n",
            "Neutral:  0.6557161629434954\n",
            "Negative:  0.297244094488189\n"
          ],
          "name": "stdout"
        }
      ]
    },
    {
      "cell_type": "markdown",
      "metadata": {
        "id": "NSgT_zR4ksWv",
        "colab_type": "text"
      },
      "source": [
        "#### Prediksi yang dihasilkan bias terhadap data dengan label positif atau netral karena terjadinya ketidakseimbangan data dengan label negatif, dan classifier yang dihasilkan GaussianNB menggunakan probabilitas terhadap data train sehingga tidak dapat menghasilkan prediksi yang baik apabila data train yang dimiliki tidak seimbang antar label yang tersedia."
      ]
    }
  ]
}